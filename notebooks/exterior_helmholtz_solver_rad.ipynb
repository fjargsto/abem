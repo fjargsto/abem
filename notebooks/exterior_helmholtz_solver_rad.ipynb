{
 "cells": [
  {
   "cell_type": "code",
   "execution_count": null,
   "metadata": {},
   "outputs": [],
   "source": [
    "%%time\n",
    "import abem as ab\n",
    "import numpy as np\n",
    "import matplotlib.pyplot as plt\n",
    "%matplotlib inline\n",
    "\n",
    "\n",
    "def display_graph(example, frequencies, bem_ratios, theoretical_ratios):\n",
    "    plt.title('Radiation Ratio of ' + example + ' Sphere')\n",
    "    line_bem, = plt.plot(frequencies, bem_ratios, 'D', label='BEM')\n",
    "    line_theo, = plt.plot(frequencies, theoretical_ratios, '--', label='theoretical')\n",
    "    plt.xlabel('Frequency [Hz]')\n",
    "    plt.ylabel('Radiation Ratio')\n",
    "    plt.legend(handles=[line_bem, line_theo], loc='lower right')\n",
    "    plt.show()\n",
    "\n",
    "num_samples = 30\n",
    "\n",
    "solver = ab.ExteriorHelmholtzSolverRAD(ab.sphere_rad())\n",
    "\n",
    "# Test Problem 1 - Pulsating Sphere\n",
    "# Neumann condition with v perpendicular to the surface, and\n",
    "# homogeneous over the full shpere. The the graph plotted also \n",
    "# contains the theoretical/closed-form solution.\n",
    "boundary_condition = solver.neumann_boundary_condition()\n",
    "boundary_condition.f.fill(1.0)\n",
    "\n",
    "boundary_incidence = ab.BoundaryIncidence(solver.len())\n",
    "boundary_incidence.phi.fill(0.0)\n",
    "boundary_incidence.v.fill(0.0)\n",
    "\n",
    "frequencies = np.linspace(10, 1000, num_samples, dtype=np.float32)\n",
    "numerical_radiation_ratios = np.empty(frequencies.size, dtype=np.float32)\n",
    "theoretical_radiation_ratios = np.empty(frequencies.size, dtype=np.float32)\n",
    "\n",
    "for i in range(frequencies.size):\n",
    "    k = ab.frequency_to_wavenumber(frequencies[i])\n",
    "    boundary_solution = solver.solve_boundary(k, boundary_condition, boundary_incidence)\n",
    "    numerical_radiation_ratios[i] = boundary_solution.radiation_ratio()\n",
    "    theoretical_radiation_ratios[i] = k**2 / (k**2+1)\n",
    "\n",
    "display_graph('Pulsating', frequencies, numerical_radiation_ratios, theoretical_radiation_ratios)\n",
    "\n",
    "# Test Problem 2 - Osillating Sphere\n",
    "# Neumann condition with sphere oscillating along the z-axix. This\n",
    "# results in a v(x) = z, where z is the z component of a given \n",
    "# point x on the sphere.\n",
    "for i in range(boundary_condition.f.size):\n",
    "    boundary_condition.f[i] = solver.centers[i, 1]\n",
    "for i in range(frequencies.size):\n",
    "    k = ab.frequency_to_wavenumber(frequencies[i])\n",
    "    boundary_solution = solver.solve_boundary(k, boundary_condition, boundary_incidence)\n",
    "    numerical_radiation_ratios[i] = boundary_solution.radiation_ratio()\n",
    "    theoretical_radiation_ratios[i] = k**4 / (k**4+4)\n",
    "\n",
    "display_graph('Oscillating', frequencies, numerical_radiation_ratios, theoretical_radiation_ratios)\n"
   ]
  },
  {
   "cell_type": "code",
   "execution_count": null,
   "metadata": {},
   "outputs": [],
   "source": []
  }
 ],
 "metadata": {
  "kernelspec": {
   "display_name": "Python 3",
   "language": "python",
   "name": "python3"
  },
  "language_info": {
   "codemirror_mode": {
    "name": "ipython",
    "version": 3
   },
   "file_extension": ".py",
   "mimetype": "text/x-python",
   "name": "python",
   "nbconvert_exporter": "python",
   "pygments_lexer": "ipython3",
   "version": "3.8.2"
  }
 },
 "nbformat": 4,
 "nbformat_minor": 1
}
